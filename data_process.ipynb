{
 "cells": [
  {
   "cell_type": "code",
   "execution_count": 1,
   "id": "d6c6f2c2",
   "metadata": {},
   "outputs": [],
   "source": [
    "import csv\n",
    "csv.field_size_limit(500 * 1024 * 1024)\n",
    "\n",
    "data_list = []\n",
    "class_number = {'SPAM':0, 'EDM':0, 'HAM':0}\n",
    "\n",
    "with open('spam_data.csv', newline='', encoding='utf-8') as csvfile:\n",
    "    \n",
    "    rows = csv.reader(csvfile)\n",
    "    for i, row in enumerate(rows):\n",
    "        if i != 0:\n",
    "            context = row[3].replace('Num','')\n",
    "            class_number[row[2]]+=1\n",
    "            data_list.append({'index': row[0], \n",
    "                              'md5sum': row[1],\n",
    "                              'label':row[2], \n",
    "                              'context':context})"
   ]
  },
  {
   "cell_type": "code",
   "execution_count": 2,
   "id": "b69af5af",
   "metadata": {},
   "outputs": [
    {
     "data": {
      "text/plain": [
       "324396"
      ]
     },
     "execution_count": 2,
     "metadata": {},
     "output_type": "execute_result"
    }
   ],
   "source": [
    "len(data_list)"
   ]
  },
  {
   "cell_type": "code",
   "execution_count": 3,
   "id": "b5f23a98",
   "metadata": {},
   "outputs": [
    {
     "name": "stdout",
     "output_type": "stream",
     "text": [
      "{'SPAM': 36797, 'EDM': 218647, 'HAM': 68952}\n"
     ]
    }
   ],
   "source": [
    "print(class_number)"
   ]
  },
  {
   "cell_type": "code",
   "execution_count": 4,
   "id": "24959642",
   "metadata": {},
   "outputs": [
    {
     "data": {
      "text/plain": [
       "{'index': '3',\n",
       " 'md5sum': '000044ef8c8eb58e315be36b4a7d7e6d',\n",
       " 'label': 'EDM',\n",
       " 'context': '閱讀 此份 信件 按下 線上 瀏覽 IDC 報告 預期  全球 聯網 連接 數量 增加  億個 智慧 邊緣 總體 市場 規模 將達  億美元 聯網 裝置 領域 多樣 普及 5G 網路 起飛 異質 整合 概念 勢不可擋 人工智慧 AI 物聯網 IoT 智慧 物聯 AIoT 未來 產業 成長 動能 AIoT 引爆 嵌入式 系統 智慧 功能 需求 工研院 產業 學院 特邀 擁有 多年 實務 開發 經驗 專業 講師 進行 授課 課程內容 業界 實務 導向 重於 程式設計 實務 演練 教學 投影片 講解 程式設計 理論 語法 將於 課堂 現場 撰寫 程式 範例 教學板 執行 測試 學員 完整 撰寫 程式 望能 培養 學員 全方位 完整 系統 開發 符合 業界 需求 能力 單元 課程 日期 課程名稱 時數 全     嵌入式 物聯網 系統 開發 工程師 全系列 優惠        嵌入式 Linux 系統 實作 程式設計 實務        嵌入式 Linux 驅動 程式 實務        嵌入式 IoT Linux 網路 通訊 多媒體 實作  因應 COVID  疫情 課程 規劃 線上 同步 數位 學習 形式 防疫 停學 隨地 學習 增進 專業 能力 培訓 證書  報名 單元 課程 出席率 達  將由 工業 技術 研究院 產業 學院 發給 單元 課程 培訓 證書  報名 全系列 課程 出席率 達  將由 工業 技術 研究院 產業 學院 發給 嵌入式 物聯網 系統 開發 工程師 培訓 證書 前  報名 全系列 課程 繳費 加贈 Quad core  bit ARM Cortex emojiPic A53 開發板 下載 器 講師 簡介 江 老師 學 中正大學 資訊 工程 博士班 研究 逢甲大學 資訊 工程 研究所 畢 專 長 嵌入式 系統 開發 智慧型 嵌入式 家庭 自動化 系統 設計  單晶片 多套 自動化 系統 驅動 程式 Driver WEB ERP 系統 ERP 系統 生產線 自動化 系統 作 品  嵌入式 系統 開發板 ARMax  S3C2410 ARM PXA270 W90N745  智慧型 嵌入式 家庭 自動化 系統   單晶片 工業 機臺 自動化 系統  多套 自動化 系統 羣 錄 自動化 驅動 程式 Driver  WEB ERP 系統 多套 ERP 系統  華映 公司 生產線 自動化 系統  手機遊戲 程式 象棋 磚塊  國內 第一套 網路 中文 傳呼 系統 課程 費用 課程  報名 研習  免費 限時 活動 即日起   報名 課程 皆 享有 參訓 免費 促銷 方案 每人   元 企業 技術 部門 組團 參訓 方案 報名 早鳥 優惠價 課前  繳費 兩人 團報 優惠 線上 同步 數位 學習 優惠價 含 紙本 講義 單元  hrs         全系列 優惠 54hr 原價   元   洽詢 專線    分機  李小姐 推薦 課程 版權所有 emojiPic  工業 技術 研究院 All Rights Reserved 工研院 產業 學院 價值 創造 不想 收到 訊息 按下 取消 訂閱'}"
      ]
     },
     "execution_count": 4,
     "metadata": {},
     "output_type": "execute_result"
    }
   ],
   "source": [
    "data_list[3]"
   ]
  },
  {
   "cell_type": "code",
   "execution_count": 6,
   "id": "8c6b01b7",
   "metadata": {},
   "outputs": [],
   "source": [
    "from sklearn.model_selection import train_test_split\n",
    "\n",
    "train_data, dev_test_data = train_test_split(data_list, random_state=777, train_size=0.8)\n",
    "dev_data, test_data = train_test_split(dev_test_data, random_state=777, train_size=0.5)"
   ]
  },
  {
   "cell_type": "code",
   "execution_count": null,
   "id": "c4949800",
   "metadata": {},
   "outputs": [],
   "source": [
    "print(len(train_data))\n",
    "print(len(dev_data))\n",
    "print(len(test_data))"
   ]
  },
  {
   "cell_type": "code",
   "execution_count": null,
   "id": "838e429a",
   "metadata": {},
   "outputs": [],
   "source": [
    "from commom import save_jsonl\n",
    "\n",
    "save_jsonl(train_data, 'datasets/train.jsonl')\n",
    "save_jsonl(dev_data, 'datasets/dev.jsonl')\n",
    "save_jsonl(test_data, 'datasets/test.jsonl')"
   ]
  },
  {
   "cell_type": "code",
   "execution_count": null,
   "id": "02454f09",
   "metadata": {},
   "outputs": [],
   "source": []
  },
  {
   "cell_type": "code",
   "execution_count": null,
   "id": "76f1d207",
   "metadata": {},
   "outputs": [],
   "source": []
  },
  {
   "cell_type": "markdown",
   "id": "91346058",
   "metadata": {},
   "source": [
    "## cross validation"
   ]
  },
  {
   "cell_type": "code",
   "execution_count": 13,
   "id": "7290b8a7",
   "metadata": {},
   "outputs": [],
   "source": [
    "# 1\n",
    "train_data, dev_test_data = data_list[:int(len(data_list)*0.8)], data_list[int(len(data_list)*0.8):]\n",
    "dev_data, test_data = dev_test_data[:int(len(dev_test_data)*0.5)], dev_test_data[int(len(dev_test_data)*0.5):]"
   ]
  },
  {
   "cell_type": "code",
   "execution_count": 14,
   "id": "9ebeff00",
   "metadata": {},
   "outputs": [
    {
     "name": "stdout",
     "output_type": "stream",
     "text": [
      "259516\n",
      "32440\n",
      "32440\n"
     ]
    }
   ],
   "source": [
    "print(len(train_data))\n",
    "print(len(dev_data))\n",
    "print(len(test_data))"
   ]
  },
  {
   "cell_type": "code",
   "execution_count": 15,
   "id": "7e62d94f",
   "metadata": {},
   "outputs": [
    {
     "name": "stdout",
     "output_type": "stream",
     "text": [
      "Save to Jsonl: datasets/cross_datasets_section_1/train.jsonl\n",
      "Save to Jsonl: datasets/cross_datasets_section_1/dev.jsonl\n",
      "Save to Jsonl: datasets/cross_datasets_section_1/test.jsonl\n"
     ]
    }
   ],
   "source": [
    "from commom import save_jsonl\n",
    "\n",
    "save_jsonl(train_data, 'datasets/cross_datasets_section_1/train.jsonl')\n",
    "save_jsonl(dev_data, 'datasets/cross_datasets_section_1/dev.jsonl')\n",
    "save_jsonl(test_data, 'datasets/cross_datasets_section_1/test.jsonl')"
   ]
  },
  {
   "cell_type": "code",
   "execution_count": 23,
   "id": "7b84ae23",
   "metadata": {},
   "outputs": [],
   "source": [
    "# 2 \n",
    "train_data, dev_test_data = data_list[:int(len(data_list)*0.6)] + data_list[int(len(data_list)*0.8):], \\\n",
    "                            data_list[int(len(data_list)*0.6):int(len(data_list)*0.8)]\n",
    "dev_data, test_data = dev_test_data[:int(len(dev_test_data)*0.5)], dev_test_data[int(len(dev_test_data)*0.5):]"
   ]
  },
  {
   "cell_type": "code",
   "execution_count": 19,
   "id": "bbb1cd51",
   "metadata": {},
   "outputs": [
    {
     "name": "stdout",
     "output_type": "stream",
     "text": [
      "259517\n",
      "32439\n",
      "32440\n"
     ]
    }
   ],
   "source": [
    "print(len(train_data))\n",
    "print(len(dev_data))\n",
    "print(len(test_data))"
   ]
  },
  {
   "cell_type": "code",
   "execution_count": 20,
   "id": "33672b6c",
   "metadata": {},
   "outputs": [
    {
     "name": "stdout",
     "output_type": "stream",
     "text": [
      "Save to Jsonl: datasets/cross_datasets_section_2/train.jsonl\n",
      "Save to Jsonl: datasets/cross_datasets_section_2/dev.jsonl\n",
      "Save to Jsonl: datasets/cross_datasets_section_2/test.jsonl\n"
     ]
    }
   ],
   "source": [
    "from commom import save_jsonl\n",
    "\n",
    "save_jsonl(train_data, 'datasets/cross_datasets_section_2/train.jsonl')\n",
    "save_jsonl(dev_data, 'datasets/cross_datasets_section_2/dev.jsonl')\n",
    "save_jsonl(test_data, 'datasets/cross_datasets_section_2/test.jsonl')"
   ]
  },
  {
   "cell_type": "code",
   "execution_count": 24,
   "id": "153c457c",
   "metadata": {},
   "outputs": [
    {
     "name": "stdout",
     "output_type": "stream",
     "text": [
      "259517\n",
      "32439\n",
      "32440\n",
      "Save to Jsonl: datasets/cross_datasets_section_3/train.jsonl\n",
      "Save to Jsonl: datasets/cross_datasets_section_3/dev.jsonl\n",
      "Save to Jsonl: datasets/cross_datasets_section_3/test.jsonl\n"
     ]
    }
   ],
   "source": [
    "# 3\n",
    "train_data, dev_test_data = data_list[:int(len(data_list)*0.4)] + data_list[int(len(data_list)*0.6):], \\\n",
    "                            data_list[int(len(data_list)*0.4):int(len(data_list)*0.6)]\n",
    "dev_data, test_data = dev_test_data[:int(len(dev_test_data)*0.5)], dev_test_data[int(len(dev_test_data)*0.5):]\n",
    "\n",
    "print(len(train_data))\n",
    "print(len(dev_data))\n",
    "print(len(test_data))\n",
    "\n",
    "save_jsonl(train_data, 'datasets/cross_datasets_section_3/train.jsonl')\n",
    "save_jsonl(dev_data, 'datasets/cross_datasets_section_3/dev.jsonl')\n",
    "save_jsonl(test_data, 'datasets/cross_datasets_section_3/test.jsonl')"
   ]
  },
  {
   "cell_type": "code",
   "execution_count": 25,
   "id": "68a2167d",
   "metadata": {},
   "outputs": [
    {
     "name": "stdout",
     "output_type": "stream",
     "text": [
      "259517\n",
      "32439\n",
      "32440\n",
      "Save to Jsonl: datasets/cross_datasets_section_4/train.jsonl\n",
      "Save to Jsonl: datasets/cross_datasets_section_4/dev.jsonl\n",
      "Save to Jsonl: datasets/cross_datasets_section_4/test.jsonl\n"
     ]
    }
   ],
   "source": [
    "# 4\n",
    "train_data, dev_test_data = data_list[:int(len(data_list)*0.2)] + data_list[int(len(data_list)*0.4):], \\\n",
    "                            data_list[int(len(data_list)*0.2):int(len(data_list)*0.4)]\n",
    "dev_data, test_data = dev_test_data[:int(len(dev_test_data)*0.5)], dev_test_data[int(len(dev_test_data)*0.5):]\n",
    "\n",
    "print(len(train_data))\n",
    "print(len(dev_data))\n",
    "print(len(test_data))\n",
    "\n",
    "save_jsonl(train_data, 'datasets/cross_datasets_section_4/train.jsonl')\n",
    "save_jsonl(dev_data, 'datasets/cross_datasets_section_4/dev.jsonl')\n",
    "save_jsonl(test_data, 'datasets/cross_datasets_section_4/test.jsonl')"
   ]
  },
  {
   "cell_type": "code",
   "execution_count": 6,
   "id": "1478538c",
   "metadata": {},
   "outputs": [
    {
     "name": "stdout",
     "output_type": "stream",
     "text": [
      "259517\n",
      "32439\n",
      "32440\n",
      "Save to Jsonl: datasets/cross_datasets_section_5/train.jsonl\n",
      "Save to Jsonl: datasets/cross_datasets_section_5/dev.jsonl\n",
      "Save to Jsonl: datasets/cross_datasets_section_5/test.jsonl\n"
     ]
    }
   ],
   "source": [
    "# 5\n",
    "train_data, dev_test_data = data_list[int(len(data_list)*0.2):], data_list[:int(len(data_list)*0.2)]\n",
    "dev_data, test_data = dev_test_data[:int(len(dev_test_data)*0.5)], dev_test_data[int(len(dev_test_data)*0.5):]\n",
    "\n",
    "print(len(train_data))\n",
    "print(len(dev_data))\n",
    "print(len(test_data))\n",
    "\n",
    "save_jsonl(train_data, 'datasets/cross_datasets_section_5/train.jsonl')\n",
    "save_jsonl(dev_data, 'datasets/cross_datasets_section_5/dev.jsonl')\n",
    "save_jsonl(test_data, 'datasets/cross_datasets_section_5/test.jsonl')"
   ]
  },
  {
   "cell_type": "code",
   "execution_count": null,
   "id": "82a718d4",
   "metadata": {},
   "outputs": [],
   "source": []
  },
  {
   "cell_type": "code",
   "execution_count": null,
   "id": "91406211",
   "metadata": {},
   "outputs": [],
   "source": []
  },
  {
   "cell_type": "code",
   "execution_count": 7,
   "id": "edf61549",
   "metadata": {
    "scrolled": true
   },
   "outputs": [
    {
     "name": "stdout",
     "output_type": "stream",
     "text": [
      "259516\n",
      "32440\n",
      "32440\n"
     ]
    }
   ],
   "source": [
    "print(len(train_data))\n",
    "print(len(dev_data))\n",
    "print(len(test_data))"
   ]
  },
  {
   "cell_type": "code",
   "execution_count": 8,
   "id": "96b0408b",
   "metadata": {},
   "outputs": [
    {
     "name": "stdout",
     "output_type": "stream",
     "text": [
      "Save to Jsonl: datasets/train.jsonl\n",
      "Save to Jsonl: datasets/dev.jsonl\n",
      "Save to Jsonl: datasets/test.jsonl\n"
     ]
    }
   ],
   "source": [
    "from commom import save_jsonl\n",
    "\n",
    "save_jsonl(train_data, 'datasets/train.jsonl')\n",
    "save_jsonl(dev_data, 'datasets/dev.jsonl')\n",
    "save_jsonl(test_data, 'datasets/test.jsonl')"
   ]
  },
  {
   "cell_type": "code",
   "execution_count": null,
   "id": "a0e9e0d0",
   "metadata": {},
   "outputs": [],
   "source": []
  },
  {
   "cell_type": "code",
   "execution_count": null,
   "id": "148b665e",
   "metadata": {},
   "outputs": [],
   "source": []
  },
  {
   "cell_type": "code",
   "execution_count": null,
   "id": "996630fe",
   "metadata": {},
   "outputs": [],
   "source": []
  },
  {
   "cell_type": "code",
   "execution_count": 5,
   "id": "8a86025f",
   "metadata": {},
   "outputs": [],
   "source": [
    "import csv\n",
    "import pandas as pd\n",
    "csv.field_size_limit(500 * 1024 * 1024)\n",
    "\n",
    "data_list = []\n",
    "class_number = {'SPAM':0, 'EDM':0, 'HAM':0}\n",
    "\n",
    "with open('spam_data.csv', newline='', encoding='utf-8') as csvfile:\n",
    "    \n",
    "    rows = csv.reader(csvfile)\n",
    "    for i, row in enumerate(rows):\n",
    "        if i != 0:\n",
    "            context = row[3].replace('Num','')\n",
    "            class_number[row[2]]+=1\n",
    "            data_list.append({'index': row[0], \n",
    "                              'md5sum': row[1],\n",
    "                              'label':row[2], \n",
    "                              'context':context})\n",
    "    # data_list.to_csv(\"generative_label/spam_data_1.csv\", encoding = \"utf-8-sig\")\n",
    "    \n",
    "    df = pd.DataFrame(data_list)\n",
    "    df[0:150].to_csv(\"generative_label/spam_data_1.csv\", encoding = \"utf-8-sig\", index = False)\n",
    "    "
   ]
  },
  {
   "cell_type": "code",
   "execution_count": 6,
   "id": "1bc50acd",
   "metadata": {},
   "outputs": [],
   "source": [
    "df[150:300].to_csv(\"generative_label/spam_data_2.csv\", encoding = \"utf-8-sig\", index = False)\n",
    "df[300:450].to_csv(\"generative_label/spam_data_3.csv\", encoding = \"utf-8-sig\", index = False)\n",
    "df[450:500].to_csv(\"generative_label/spam_data_4.csv\", encoding = \"utf-8-sig\", index = False)"
   ]
  },
  {
   "cell_type": "code",
   "execution_count": null,
   "id": "3fe7adc2",
   "metadata": {},
   "outputs": [],
   "source": []
  }
 ],
 "metadata": {
  "kernelspec": {
   "display_name": "Python 3 (ipykernel)",
   "language": "python",
   "name": "python3"
  },
  "language_info": {
   "codemirror_mode": {
    "name": "ipython",
    "version": 3
   },
   "file_extension": ".py",
   "mimetype": "text/x-python",
   "name": "python",
   "nbconvert_exporter": "python",
   "pygments_lexer": "ipython3",
   "version": "3.7.13"
  }
 },
 "nbformat": 4,
 "nbformat_minor": 5
}
