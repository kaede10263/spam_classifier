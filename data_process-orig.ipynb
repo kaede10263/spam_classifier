{
 "cells": [
  {
   "cell_type": "code",
   "execution_count": 5,
   "id": "d6c6f2c2",
   "metadata": {},
   "outputs": [],
   "source": [
    "import csv\n",
    "csv.field_size_limit(500 * 1024 * 1024)\n",
    "\n",
    "data_list = []\n",
    "class_number = {'SPAM':0, 'EDM':0, 'HAM':0}\n",
    "\n",
    "with open('generative_label/spam_data_orig_50000.csv', newline='', encoding='utf-8') as csvfile:\n",
    "    \n",
    "    rows = csv.reader(csvfile)\n",
    "    for i, row in enumerate(rows):\n",
    "        if i != 0:\n",
    "            context = row[5]\n",
    "            class_number[row[3]] += 1\n",
    "            data_list.append({'index': row[0], \n",
    "                              'md5sum': row[2],\n",
    "                              'label':row[3], \n",
    "                              'context':context})"
   ]
  },
  {
   "cell_type": "code",
   "execution_count": 6,
   "id": "b69af5af",
   "metadata": {},
   "outputs": [
    {
     "data": {
      "text/plain": [
       "50000"
      ]
     },
     "execution_count": 6,
     "metadata": {},
     "output_type": "execute_result"
    }
   ],
   "source": [
    "len(data_list)"
   ]
  },
  {
   "cell_type": "code",
   "execution_count": 7,
   "id": "b5f23a98",
   "metadata": {},
   "outputs": [
    {
     "name": "stdout",
     "output_type": "stream",
     "text": [
      "{'SPAM': 5515, 'EDM': 33898, 'HAM': 10587}\n"
     ]
    }
   ],
   "source": [
    "print(class_number)"
   ]
  },
  {
   "cell_type": "code",
   "execution_count": 8,
   "id": "24959642",
   "metadata": {},
   "outputs": [
    {
     "data": {
      "text/plain": [
       "{'index': '3',\n",
       " 'md5sum': '000044ef8c8eb58e315be36b4a7d7e6d',\n",
       " 'label': 'EDM',\n",
       " 'context': '若您無法閱讀此份信件，請按下線上瀏覽 IDC報告預期，2025年全球聯網連接數量將增加至270億個，智慧邊緣總體市場規模將達650億美元。隨著聯網裝置在各領域應用的多樣與普及，5G網路應用起飛，異質整合概念已勢不可擋，人工智慧(AI)結合物聯網(IoT)的智慧物聯(AIoT) 將成為未來產業成長的動能，而AIoT應用將引爆嵌入式系統的智慧功能需求。 工研院產業學院特邀擁有多年實務開發經驗之專業講師進行授課，課程內容強調以業界實務為導向，著重於程式設計實務之演練，除了以教學投影片講解程式設計理論及語法，同時將於課堂上現場撰寫程式範例，並直接於教學板上執行測試，讓學員清楚了解如何從無到有，完整的撰寫程式，望能培養學員全方位完整系統開發與符合業界需求之能力。 單元 課程日期 課程名稱 時數 全 6/19~8/21 (六) 嵌入式物聯網系統開發工程師【全系列優惠】 54 一 6/19、6/26、7/3 嵌入式Linux系統實作與程式設計實務 18 二 7/10、7/17、7/24 嵌入式Linux驅動程式實務 18 三 8/7、8/14、8/21 嵌入式IoT Linux網路通訊及多媒體應用實作 18 因應COVID-19 疫情，本課程同時規劃「線上同步數位學習」形式，防疫不停學，隨時隨地學習、增進專業能力！ 培訓證書 1. 報名單元課程且出席率達80%，將由工業技術研究院產業學院發給該單元課程培訓證書。 2. 報名全系列課程且出席率達80%，將由工業技術研究院產業學院發給【嵌入式物聯網系統開發工程師】培訓證書。 前10名報名全系列課程且繳費者 加贈Quad-core 64-bit ARM Cortex™-A53 開發板+下載器 講師簡介：江老師 學 歷： 中正大學資訊工程所博士班研究、逢甲大學資訊工程研究所畢 專 長： 嵌入式系統開發、智慧型嵌入式家庭自動化系統設計、8051單晶片、多套自動化系統及驅動程式Driver、WEB-ERP系統、ERP系統、生產線自動化系統。 作 品： 1. 嵌入式系統開發板(ARMax-701、S3C2410、ARM-PXA270、W90N745) 2. 智慧型嵌入式家庭自動化系統 3. 8051單晶片於工業機台之自動化系統 4. 多套自動化系統(群錄自動化)及驅動程式Driver 5. WEB-ERP系統、多套ERP系統 6. 華映公司生產線自動化系統 7. 手機遊戲程式(象棋、打磚塊) 8. 國內第一套網路中文傳呼系統 課程費用 本課程適用【5人報名研習1人免費】限時活動，即日起至5月31日止，凡報名本課程皆可享有五人參訓一人免費之促銷方案(每人10,800元)，歡迎企業技術部門組團參訓。 方案 一般報名 早鳥優惠價 課前10日繳費 兩人以上 團報優惠 線上同步數位學習 優惠價(含紙本講義) 每單元(18 hrs) 13,500/人 12,000/人 12,000/人 11,000/人 全系列優惠(54hr) 原價40,500元 32,400/人 洽詢專線 (02)2370-1111分機316李小姐 其他推薦課程 版權所有 © 2021 工業技術研究院 All Rights Reserved 工研院產業學院．價值創造 若您不想再收到此訊息，請按下 取消訂閱'}"
      ]
     },
     "execution_count": 8,
     "metadata": {},
     "output_type": "execute_result"
    }
   ],
   "source": [
    "data_list[3]"
   ]
  },
  {
   "cell_type": "code",
   "execution_count": 9,
   "id": "8c6b01b7",
   "metadata": {},
   "outputs": [],
   "source": [
    "from sklearn.model_selection import train_test_split\n",
    "\n",
    "train_data, dev_test_data = train_test_split(data_list, random_state=777, train_size=0.8)\n",
    "dev_data, test_data = train_test_split(dev_test_data, random_state=777, train_size=0.5)"
   ]
  },
  {
   "cell_type": "code",
   "execution_count": 10,
   "id": "c4949800",
   "metadata": {},
   "outputs": [
    {
     "name": "stdout",
     "output_type": "stream",
     "text": [
      "40000\n",
      "5000\n",
      "5000\n"
     ]
    }
   ],
   "source": [
    "print(len(train_data))\n",
    "print(len(dev_data))\n",
    "print(len(test_data))"
   ]
  },
  {
   "cell_type": "code",
   "execution_count": 11,
   "id": "838e429a",
   "metadata": {},
   "outputs": [
    {
     "name": "stdout",
     "output_type": "stream",
     "text": [
      "Save to Jsonl: datasets/orig_dataset_50000/train.jsonl\n",
      "Save to Jsonl: datasets/orig_dataset_50000/dev.jsonl\n",
      "Save to Jsonl: datasets/orig_dataset_50000/test.jsonl\n"
     ]
    }
   ],
   "source": [
    "from commom import save_jsonl\n",
    "\n",
    "save_jsonl(train_data, 'datasets/orig_dataset_50000/train.jsonl')\n",
    "save_jsonl(dev_data, 'datasets/orig_dataset_50000/dev.jsonl')\n",
    "save_jsonl(test_data, 'datasets/orig_dataset_50000/test.jsonl')"
   ]
  },
  {
   "cell_type": "code",
   "execution_count": null,
   "id": "02454f09",
   "metadata": {},
   "outputs": [],
   "source": []
  },
  {
   "cell_type": "code",
   "execution_count": null,
   "id": "76f1d207",
   "metadata": {},
   "outputs": [],
   "source": []
  },
  {
   "cell_type": "markdown",
   "id": "91346058",
   "metadata": {},
   "source": [
    "## cross validation"
   ]
  },
  {
   "cell_type": "code",
   "execution_count": 13,
   "id": "7290b8a7",
   "metadata": {},
   "outputs": [],
   "source": [
    "# 1\n",
    "train_data, dev_test_data = data_list[:int(len(data_list)*0.8)], data_list[int(len(data_list)*0.8):]\n",
    "dev_data, test_data = dev_test_data[:int(len(dev_test_data)*0.5)], dev_test_data[int(len(dev_test_data)*0.5):]"
   ]
  },
  {
   "cell_type": "code",
   "execution_count": 14,
   "id": "9ebeff00",
   "metadata": {},
   "outputs": [
    {
     "name": "stdout",
     "output_type": "stream",
     "text": [
      "259516\n",
      "32440\n",
      "32440\n"
     ]
    }
   ],
   "source": [
    "print(len(train_data))\n",
    "print(len(dev_data))\n",
    "print(len(test_data))"
   ]
  },
  {
   "cell_type": "code",
   "execution_count": 15,
   "id": "7e62d94f",
   "metadata": {},
   "outputs": [
    {
     "name": "stdout",
     "output_type": "stream",
     "text": [
      "Save to Jsonl: datasets/cross_datasets_section_1/train.jsonl\n",
      "Save to Jsonl: datasets/cross_datasets_section_1/dev.jsonl\n",
      "Save to Jsonl: datasets/cross_datasets_section_1/test.jsonl\n"
     ]
    }
   ],
   "source": [
    "from commom import save_jsonl\n",
    "\n",
    "save_jsonl(train_data, 'datasets/cross_datasets_section_1/train.jsonl')\n",
    "save_jsonl(dev_data, 'datasets/cross_datasets_section_1/dev.jsonl')\n",
    "save_jsonl(test_data, 'datasets/cross_datasets_section_1/test.jsonl')"
   ]
  },
  {
   "cell_type": "code",
   "execution_count": 23,
   "id": "7b84ae23",
   "metadata": {},
   "outputs": [],
   "source": [
    "# 2 \n",
    "train_data, dev_test_data = data_list[:int(len(data_list)*0.6)] + data_list[int(len(data_list)*0.8):], \\\n",
    "                            data_list[int(len(data_list)*0.6):int(len(data_list)*0.8)]\n",
    "dev_data, test_data = dev_test_data[:int(len(dev_test_data)*0.5)], dev_test_data[int(len(dev_test_data)*0.5):]"
   ]
  },
  {
   "cell_type": "code",
   "execution_count": 19,
   "id": "bbb1cd51",
   "metadata": {},
   "outputs": [
    {
     "name": "stdout",
     "output_type": "stream",
     "text": [
      "259517\n",
      "32439\n",
      "32440\n"
     ]
    }
   ],
   "source": [
    "print(len(train_data))\n",
    "print(len(dev_data))\n",
    "print(len(test_data))"
   ]
  },
  {
   "cell_type": "code",
   "execution_count": 20,
   "id": "33672b6c",
   "metadata": {},
   "outputs": [
    {
     "name": "stdout",
     "output_type": "stream",
     "text": [
      "Save to Jsonl: datasets/cross_datasets_section_2/train.jsonl\n",
      "Save to Jsonl: datasets/cross_datasets_section_2/dev.jsonl\n",
      "Save to Jsonl: datasets/cross_datasets_section_2/test.jsonl\n"
     ]
    }
   ],
   "source": [
    "from commom import save_jsonl\n",
    "\n",
    "save_jsonl(train_data, 'datasets/cross_datasets_section_2/train.jsonl')\n",
    "save_jsonl(dev_data, 'datasets/cross_datasets_section_2/dev.jsonl')\n",
    "save_jsonl(test_data, 'datasets/cross_datasets_section_2/test.jsonl')"
   ]
  },
  {
   "cell_type": "code",
   "execution_count": 24,
   "id": "153c457c",
   "metadata": {},
   "outputs": [
    {
     "name": "stdout",
     "output_type": "stream",
     "text": [
      "259517\n",
      "32439\n",
      "32440\n",
      "Save to Jsonl: datasets/cross_datasets_section_3/train.jsonl\n",
      "Save to Jsonl: datasets/cross_datasets_section_3/dev.jsonl\n",
      "Save to Jsonl: datasets/cross_datasets_section_3/test.jsonl\n"
     ]
    }
   ],
   "source": [
    "# 3\n",
    "train_data, dev_test_data = data_list[:int(len(data_list)*0.4)] + data_list[int(len(data_list)*0.6):], \\\n",
    "                            data_list[int(len(data_list)*0.4):int(len(data_list)*0.6)]\n",
    "dev_data, test_data = dev_test_data[:int(len(dev_test_data)*0.5)], dev_test_data[int(len(dev_test_data)*0.5):]\n",
    "\n",
    "print(len(train_data))\n",
    "print(len(dev_data))\n",
    "print(len(test_data))\n",
    "\n",
    "save_jsonl(train_data, 'datasets/cross_datasets_section_3/train.jsonl')\n",
    "save_jsonl(dev_data, 'datasets/cross_datasets_section_3/dev.jsonl')\n",
    "save_jsonl(test_data, 'datasets/cross_datasets_section_3/test.jsonl')"
   ]
  },
  {
   "cell_type": "code",
   "execution_count": 25,
   "id": "68a2167d",
   "metadata": {},
   "outputs": [
    {
     "name": "stdout",
     "output_type": "stream",
     "text": [
      "259517\n",
      "32439\n",
      "32440\n",
      "Save to Jsonl: datasets/cross_datasets_section_4/train.jsonl\n",
      "Save to Jsonl: datasets/cross_datasets_section_4/dev.jsonl\n",
      "Save to Jsonl: datasets/cross_datasets_section_4/test.jsonl\n"
     ]
    }
   ],
   "source": [
    "# 4\n",
    "train_data, dev_test_data = data_list[:int(len(data_list)*0.2)] + data_list[int(len(data_list)*0.4):], \\\n",
    "                            data_list[int(len(data_list)*0.2):int(len(data_list)*0.4)]\n",
    "dev_data, test_data = dev_test_data[:int(len(dev_test_data)*0.5)], dev_test_data[int(len(dev_test_data)*0.5):]\n",
    "\n",
    "print(len(train_data))\n",
    "print(len(dev_data))\n",
    "print(len(test_data))\n",
    "\n",
    "save_jsonl(train_data, 'datasets/cross_datasets_section_4/train.jsonl')\n",
    "save_jsonl(dev_data, 'datasets/cross_datasets_section_4/dev.jsonl')\n",
    "save_jsonl(test_data, 'datasets/cross_datasets_section_4/test.jsonl')"
   ]
  },
  {
   "cell_type": "code",
   "execution_count": 6,
   "id": "1478538c",
   "metadata": {},
   "outputs": [
    {
     "name": "stdout",
     "output_type": "stream",
     "text": [
      "259517\n",
      "32439\n",
      "32440\n",
      "Save to Jsonl: datasets/cross_datasets_section_5/train.jsonl\n",
      "Save to Jsonl: datasets/cross_datasets_section_5/dev.jsonl\n",
      "Save to Jsonl: datasets/cross_datasets_section_5/test.jsonl\n"
     ]
    }
   ],
   "source": [
    "# 5\n",
    "train_data, dev_test_data = data_list[int(len(data_list)*0.2):], data_list[:int(len(data_list)*0.2)]\n",
    "dev_data, test_data = dev_test_data[:int(len(dev_test_data)*0.5)], dev_test_data[int(len(dev_test_data)*0.5):]\n",
    "\n",
    "print(len(train_data))\n",
    "print(len(dev_data))\n",
    "print(len(test_data))\n",
    "\n",
    "save_jsonl(train_data, 'datasets/cross_datasets_section_5/train.jsonl')\n",
    "save_jsonl(dev_data, 'datasets/cross_datasets_section_5/dev.jsonl')\n",
    "save_jsonl(test_data, 'datasets/cross_datasets_section_5/test.jsonl')"
   ]
  },
  {
   "cell_type": "code",
   "execution_count": null,
   "id": "82a718d4",
   "metadata": {},
   "outputs": [],
   "source": []
  },
  {
   "cell_type": "code",
   "execution_count": null,
   "id": "91406211",
   "metadata": {},
   "outputs": [],
   "source": []
  },
  {
   "cell_type": "code",
   "execution_count": 7,
   "id": "edf61549",
   "metadata": {
    "scrolled": true
   },
   "outputs": [
    {
     "name": "stdout",
     "output_type": "stream",
     "text": [
      "259516\n",
      "32440\n",
      "32440\n"
     ]
    }
   ],
   "source": [
    "print(len(train_data))\n",
    "print(len(dev_data))\n",
    "print(len(test_data))"
   ]
  },
  {
   "cell_type": "code",
   "execution_count": 8,
   "id": "96b0408b",
   "metadata": {},
   "outputs": [
    {
     "name": "stdout",
     "output_type": "stream",
     "text": [
      "Save to Jsonl: datasets/train.jsonl\n",
      "Save to Jsonl: datasets/dev.jsonl\n",
      "Save to Jsonl: datasets/test.jsonl\n"
     ]
    }
   ],
   "source": [
    "from commom import save_jsonl\n",
    "\n",
    "save_jsonl(train_data, 'datasets/train.jsonl')\n",
    "save_jsonl(dev_data, 'datasets/dev.jsonl')\n",
    "save_jsonl(test_data, 'datasets/test.jsonl')"
   ]
  },
  {
   "cell_type": "code",
   "execution_count": null,
   "id": "a0e9e0d0",
   "metadata": {},
   "outputs": [],
   "source": []
  },
  {
   "cell_type": "code",
   "execution_count": null,
   "id": "148b665e",
   "metadata": {},
   "outputs": [],
   "source": []
  },
  {
   "cell_type": "code",
   "execution_count": null,
   "id": "996630fe",
   "metadata": {},
   "outputs": [],
   "source": []
  },
  {
   "cell_type": "code",
   "execution_count": 5,
   "id": "8a86025f",
   "metadata": {},
   "outputs": [],
   "source": [
    "import csv\n",
    "import pandas as pd\n",
    "csv.field_size_limit(500 * 1024 * 1024)\n",
    "\n",
    "data_list = []\n",
    "class_number = {'SPAM':0, 'EDM':0, 'HAM':0}\n",
    "\n",
    "with open('spam_data.csv', newline='', encoding='utf-8') as csvfile:\n",
    "    \n",
    "    rows = csv.reader(csvfile)\n",
    "    for i, row in enumerate(rows):\n",
    "        if i != 0:\n",
    "            context = row[3].replace('Num','')\n",
    "            class_number[row[2]]+=1\n",
    "            data_list.append({'index': row[0], \n",
    "                              'md5sum': row[1],\n",
    "                              'label':row[2], \n",
    "                              'context':context})\n",
    "    # data_list.to_csv(\"generative_label/spam_data_1.csv\", encoding = \"utf-8-sig\")\n",
    "    \n",
    "    df = pd.DataFrame(data_list)\n",
    "    df[0:150].to_csv(\"generative_label/spam_data_1.csv\", encoding = \"utf-8-sig\", index = False)\n",
    "    "
   ]
  },
  {
   "cell_type": "code",
   "execution_count": 6,
   "id": "1bc50acd",
   "metadata": {},
   "outputs": [],
   "source": [
    "df[150:300].to_csv(\"generative_label/spam_data_2.csv\", encoding = \"utf-8-sig\", index = False)\n",
    "df[300:450].to_csv(\"generative_label/spam_data_3.csv\", encoding = \"utf-8-sig\", index = False)\n",
    "df[450:500].to_csv(\"generative_label/spam_data_4.csv\", encoding = \"utf-8-sig\", index = False)"
   ]
  },
  {
   "cell_type": "code",
   "execution_count": null,
   "id": "3fe7adc2",
   "metadata": {},
   "outputs": [],
   "source": []
  }
 ],
 "metadata": {
  "kernelspec": {
   "display_name": "Python 3 (ipykernel)",
   "language": "python",
   "name": "python3"
  },
  "language_info": {
   "codemirror_mode": {
    "name": "ipython",
    "version": 3
   },
   "file_extension": ".py",
   "mimetype": "text/x-python",
   "name": "python",
   "nbconvert_exporter": "python",
   "pygments_lexer": "ipython3",
   "version": "3.7.13"
  }
 },
 "nbformat": 4,
 "nbformat_minor": 5
}
